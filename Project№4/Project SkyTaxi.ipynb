{
 "cells": [
  {
   "cell_type": "code",
   "execution_count": 46,
   "id": "54dce520",
   "metadata": {},
   "outputs": [],
   "source": [
    "import pandas as pd\n",
    "import datetime as dt\n",
    "import matplotlib.pyplot as plt\n",
    "import numpy as np\n",
    "import seaborn as sns\n",
    "from scipy.stats import ttest_ind\n",
    "from scipy.stats import pearsonr, spearmanr, mannwhitneyu"
   ]
  },
  {
   "cell_type": "markdown",
   "id": "ecdc4e6f",
   "metadata": {},
   "source": [
    "# 1 Выгрузка"
   ]
  },
  {
   "cell_type": "code",
   "execution_count": 47,
   "id": "9fed1902",
   "metadata": {},
   "outputs": [],
   "source": [
    "Dataset = pd.read_excel('D:/SkyPro/Материалы по обучению/!Финальная Аттестация/Финальная первичная аттестация. Вариант 1. Python.xlsx', sheet_name='Dataset')\n",
    "city_dict = pd.read_excel('D:/SkyPro/Материалы по обучению/!Финальная Аттестация/Финальная первичная аттестация. Вариант 1. Python.xlsx', sheet_name='city_dict')"
   ]
  },
  {
   "cell_type": "markdown",
   "id": "77ac0db5",
   "metadata": {},
   "source": [
    "# 1.1 Изучение данных "
   ]
  },
  {
   "cell_type": "code",
   "execution_count": 48,
   "id": "296748a8",
   "metadata": {},
   "outputs": [
    {
     "data": {
      "text/html": [
       "<div>\n",
       "<style scoped>\n",
       "    .dataframe tbody tr th:only-of-type {\n",
       "        vertical-align: middle;\n",
       "    }\n",
       "\n",
       "    .dataframe tbody tr th {\n",
       "        vertical-align: top;\n",
       "    }\n",
       "\n",
       "    .dataframe thead th {\n",
       "        text-align: right;\n",
       "    }\n",
       "</style>\n",
       "<table border=\"1\" class=\"dataframe\">\n",
       "  <thead>\n",
       "    <tr style=\"text-align: right;\">\n",
       "      <th></th>\n",
       "      <th>id_view</th>\n",
       "      <th>time_view</th>\n",
       "      <th>id_group</th>\n",
       "      <th>id_city</th>\n",
       "      <th>nflag_order</th>\n",
       "    </tr>\n",
       "  </thead>\n",
       "  <tbody>\n",
       "    <tr>\n",
       "      <th>0</th>\n",
       "      <td>10457162393</td>\n",
       "      <td>2023-01-17 13:56:06.118</td>\n",
       "      <td>0</td>\n",
       "      <td>3</td>\n",
       "      <td>1</td>\n",
       "    </tr>\n",
       "    <tr>\n",
       "      <th>1</th>\n",
       "      <td>10457152884</td>\n",
       "      <td>2023-01-30 17:38:18.629</td>\n",
       "      <td>1</td>\n",
       "      <td>1</td>\n",
       "      <td>1</td>\n",
       "    </tr>\n",
       "    <tr>\n",
       "      <th>2</th>\n",
       "      <td>10457162947</td>\n",
       "      <td>2023-01-07 14:06:22.689</td>\n",
       "      <td>1</td>\n",
       "      <td>1</td>\n",
       "      <td>1</td>\n",
       "    </tr>\n",
       "    <tr>\n",
       "      <th>3</th>\n",
       "      <td>10457197478</td>\n",
       "      <td>2023-01-02 11:02:58.189</td>\n",
       "      <td>0</td>\n",
       "      <td>3</td>\n",
       "      <td>0</td>\n",
       "    </tr>\n",
       "    <tr>\n",
       "      <th>4</th>\n",
       "      <td>10457176480</td>\n",
       "      <td>2023-01-04 22:56:19.240</td>\n",
       "      <td>0</td>\n",
       "      <td>1</td>\n",
       "      <td>1</td>\n",
       "    </tr>\n",
       "  </tbody>\n",
       "</table>\n",
       "</div>"
      ],
      "text/plain": [
       "       id_view               time_view  id_group  id_city  nflag_order\n",
       "0  10457162393 2023-01-17 13:56:06.118         0        3            1\n",
       "1  10457152884 2023-01-30 17:38:18.629         1        1            1\n",
       "2  10457162947 2023-01-07 14:06:22.689         1        1            1\n",
       "3  10457197478 2023-01-02 11:02:58.189         0        3            0\n",
       "4  10457176480 2023-01-04 22:56:19.240         0        1            1"
      ]
     },
     "execution_count": 48,
     "metadata": {},
     "output_type": "execute_result"
    }
   ],
   "source": [
    "Dataset.head(5)"
   ]
  },
  {
   "cell_type": "code",
   "execution_count": 49,
   "id": "966be483",
   "metadata": {},
   "outputs": [
    {
     "name": "stdout",
     "output_type": "stream",
     "text": [
      "<class 'pandas.core.frame.DataFrame'>\n",
      "RangeIndex: 21939 entries, 0 to 21938\n",
      "Data columns (total 5 columns):\n",
      " #   Column       Non-Null Count  Dtype         \n",
      "---  ------       --------------  -----         \n",
      " 0   id_view      21939 non-null  int64         \n",
      " 1   time_view    21939 non-null  datetime64[ns]\n",
      " 2   id_group     21939 non-null  int64         \n",
      " 3   id_city      21939 non-null  int64         \n",
      " 4   nflag_order  21939 non-null  int64         \n",
      "dtypes: datetime64[ns](1), int64(4)\n",
      "memory usage: 857.1 KB\n"
     ]
    }
   ],
   "source": [
    "Dataset.info()"
   ]
  },
  {
   "cell_type": "code",
   "execution_count": 50,
   "id": "2be8135b",
   "metadata": {},
   "outputs": [
    {
     "data": {
      "text/html": [
       "<div>\n",
       "<style scoped>\n",
       "    .dataframe tbody tr th:only-of-type {\n",
       "        vertical-align: middle;\n",
       "    }\n",
       "\n",
       "    .dataframe tbody tr th {\n",
       "        vertical-align: top;\n",
       "    }\n",
       "\n",
       "    .dataframe thead th {\n",
       "        text-align: right;\n",
       "    }\n",
       "</style>\n",
       "<table border=\"1\" class=\"dataframe\">\n",
       "  <thead>\n",
       "    <tr style=\"text-align: right;\">\n",
       "      <th></th>\n",
       "      <th>id_city</th>\n",
       "      <th>name_city</th>\n",
       "    </tr>\n",
       "  </thead>\n",
       "  <tbody>\n",
       "    <tr>\n",
       "      <th>0</th>\n",
       "      <td>1</td>\n",
       "      <td>Москва</td>\n",
       "    </tr>\n",
       "    <tr>\n",
       "      <th>1</th>\n",
       "      <td>2</td>\n",
       "      <td>Санкт-Петербург</td>\n",
       "    </tr>\n",
       "    <tr>\n",
       "      <th>2</th>\n",
       "      <td>3</td>\n",
       "      <td>Новосибирск</td>\n",
       "    </tr>\n",
       "    <tr>\n",
       "      <th>3</th>\n",
       "      <td>4</td>\n",
       "      <td>Казань</td>\n",
       "    </tr>\n",
       "    <tr>\n",
       "      <th>4</th>\n",
       "      <td>5</td>\n",
       "      <td>Краснодар</td>\n",
       "    </tr>\n",
       "  </tbody>\n",
       "</table>\n",
       "</div>"
      ],
      "text/plain": [
       "   id_city        name_city\n",
       "0        1           Москва\n",
       "1        2  Санкт-Петербург\n",
       "2        3      Новосибирск\n",
       "3        4           Казань\n",
       "4        5        Краснодар"
      ]
     },
     "execution_count": 50,
     "metadata": {},
     "output_type": "execute_result"
    }
   ],
   "source": [
    "city_dict.head(5)"
   ]
  },
  {
   "cell_type": "markdown",
   "id": "7f26f13e",
   "metadata": {},
   "source": [
    "# Задание 1.1\n",
    "\n",
    "Импортируйте файл с данными в Jupyter Notebook и расшифруйте идентификаторы городов с помощью листа city_dict\n",
    "\n",
    "**Описание логики десйтвий:**\n",
    "Учитывая что выгрузка файла ексель по книгам была сделана ранее осталось объединить таблицы по индетифактору которому соответсвтует определнный город с помощью .merge()\n"
   ]
  },
  {
   "cell_type": "code",
   "execution_count": 51,
   "id": "d0435504",
   "metadata": {
    "scrolled": true
   },
   "outputs": [
    {
     "data": {
      "text/html": [
       "<div>\n",
       "<style scoped>\n",
       "    .dataframe tbody tr th:only-of-type {\n",
       "        vertical-align: middle;\n",
       "    }\n",
       "\n",
       "    .dataframe tbody tr th {\n",
       "        vertical-align: top;\n",
       "    }\n",
       "\n",
       "    .dataframe thead th {\n",
       "        text-align: right;\n",
       "    }\n",
       "</style>\n",
       "<table border=\"1\" class=\"dataframe\">\n",
       "  <thead>\n",
       "    <tr style=\"text-align: right;\">\n",
       "      <th></th>\n",
       "      <th>index</th>\n",
       "      <th>id_view</th>\n",
       "      <th>time_view</th>\n",
       "      <th>id_group</th>\n",
       "      <th>id_city</th>\n",
       "      <th>nflag_order</th>\n",
       "      <th>name_city</th>\n",
       "    </tr>\n",
       "  </thead>\n",
       "  <tbody>\n",
       "    <tr>\n",
       "      <th>0</th>\n",
       "      <td>0</td>\n",
       "      <td>10457162393</td>\n",
       "      <td>2023-01-17 13:56:06.118</td>\n",
       "      <td>0</td>\n",
       "      <td>3</td>\n",
       "      <td>1</td>\n",
       "      <td>Новосибирск</td>\n",
       "    </tr>\n",
       "    <tr>\n",
       "      <th>1</th>\n",
       "      <td>1</td>\n",
       "      <td>10457197478</td>\n",
       "      <td>2023-01-02 11:02:58.189</td>\n",
       "      <td>0</td>\n",
       "      <td>3</td>\n",
       "      <td>0</td>\n",
       "      <td>Новосибирск</td>\n",
       "    </tr>\n",
       "    <tr>\n",
       "      <th>2</th>\n",
       "      <td>2</td>\n",
       "      <td>10457135372</td>\n",
       "      <td>2023-01-15 10:03:58.011</td>\n",
       "      <td>0</td>\n",
       "      <td>3</td>\n",
       "      <td>0</td>\n",
       "      <td>Новосибирск</td>\n",
       "    </tr>\n",
       "    <tr>\n",
       "      <th>3</th>\n",
       "      <td>3</td>\n",
       "      <td>10457162971</td>\n",
       "      <td>2023-01-02 09:39:31.283</td>\n",
       "      <td>0</td>\n",
       "      <td>3</td>\n",
       "      <td>1</td>\n",
       "      <td>Новосибирск</td>\n",
       "    </tr>\n",
       "    <tr>\n",
       "      <th>4</th>\n",
       "      <td>4</td>\n",
       "      <td>10457132942</td>\n",
       "      <td>2023-01-23 19:18:03.516</td>\n",
       "      <td>0</td>\n",
       "      <td>3</td>\n",
       "      <td>0</td>\n",
       "      <td>Новосибирск</td>\n",
       "    </tr>\n",
       "    <tr>\n",
       "      <th>...</th>\n",
       "      <td>...</td>\n",
       "      <td>...</td>\n",
       "      <td>...</td>\n",
       "      <td>...</td>\n",
       "      <td>...</td>\n",
       "      <td>...</td>\n",
       "      <td>...</td>\n",
       "    </tr>\n",
       "    <tr>\n",
       "      <th>21934</th>\n",
       "      <td>21934</td>\n",
       "      <td>10457174004</td>\n",
       "      <td>2023-01-21 11:47:30.578</td>\n",
       "      <td>0</td>\n",
       "      <td>9</td>\n",
       "      <td>1</td>\n",
       "      <td>Воронеж</td>\n",
       "    </tr>\n",
       "    <tr>\n",
       "      <th>21935</th>\n",
       "      <td>21935</td>\n",
       "      <td>10457130320</td>\n",
       "      <td>2023-01-24 02:09:49.169</td>\n",
       "      <td>0</td>\n",
       "      <td>9</td>\n",
       "      <td>0</td>\n",
       "      <td>Воронеж</td>\n",
       "    </tr>\n",
       "    <tr>\n",
       "      <th>21936</th>\n",
       "      <td>21936</td>\n",
       "      <td>10457166866</td>\n",
       "      <td>2023-01-13 16:22:38.491</td>\n",
       "      <td>1</td>\n",
       "      <td>9</td>\n",
       "      <td>0</td>\n",
       "      <td>Воронеж</td>\n",
       "    </tr>\n",
       "    <tr>\n",
       "      <th>21937</th>\n",
       "      <td>21937</td>\n",
       "      <td>10457186695</td>\n",
       "      <td>2023-01-28 02:21:49.007</td>\n",
       "      <td>0</td>\n",
       "      <td>9</td>\n",
       "      <td>1</td>\n",
       "      <td>Воронеж</td>\n",
       "    </tr>\n",
       "    <tr>\n",
       "      <th>21938</th>\n",
       "      <td>21938</td>\n",
       "      <td>10457180718</td>\n",
       "      <td>2023-01-23 03:37:17.675</td>\n",
       "      <td>1</td>\n",
       "      <td>9</td>\n",
       "      <td>0</td>\n",
       "      <td>Воронеж</td>\n",
       "    </tr>\n",
       "  </tbody>\n",
       "</table>\n",
       "<p>21939 rows × 7 columns</p>\n",
       "</div>"
      ],
      "text/plain": [
       "       index      id_view               time_view  id_group  id_city  \\\n",
       "0          0  10457162393 2023-01-17 13:56:06.118         0        3   \n",
       "1          1  10457197478 2023-01-02 11:02:58.189         0        3   \n",
       "2          2  10457135372 2023-01-15 10:03:58.011         0        3   \n",
       "3          3  10457162971 2023-01-02 09:39:31.283         0        3   \n",
       "4          4  10457132942 2023-01-23 19:18:03.516         0        3   \n",
       "...      ...          ...                     ...       ...      ...   \n",
       "21934  21934  10457174004 2023-01-21 11:47:30.578         0        9   \n",
       "21935  21935  10457130320 2023-01-24 02:09:49.169         0        9   \n",
       "21936  21936  10457166866 2023-01-13 16:22:38.491         1        9   \n",
       "21937  21937  10457186695 2023-01-28 02:21:49.007         0        9   \n",
       "21938  21938  10457180718 2023-01-23 03:37:17.675         1        9   \n",
       "\n",
       "       nflag_order    name_city  \n",
       "0                1  Новосибирск  \n",
       "1                0  Новосибирск  \n",
       "2                0  Новосибирск  \n",
       "3                1  Новосибирск  \n",
       "4                0  Новосибирск  \n",
       "...            ...          ...  \n",
       "21934            1      Воронеж  \n",
       "21935            0      Воронеж  \n",
       "21936            0      Воронеж  \n",
       "21937            1      Воронеж  \n",
       "21938            0      Воронеж  \n",
       "\n",
       "[21939 rows x 7 columns]"
      ]
     },
     "execution_count": 51,
     "metadata": {},
     "output_type": "execute_result"
    }
   ],
   "source": [
    "df = Dataset.merge(city_dict, on = 'id_city', how = 'outer')\n",
    "df.reset_index()"
   ]
  },
  {
   "cell_type": "markdown",
   "id": "86dd4df4",
   "metadata": {},
   "source": [
    "# Задание 1.2\n",
    "\n",
    "Рассчитайте результаты АВ-теста и с помощью статистического критерия сделайте вывод\n",
    "\n",
    "**Описание логики десйтвий:**\n",
    "Для начала создадим функцию для проведения статистичекого теста. Далее прведем тест сравнив тесовую и рабочию группы между собой!"
   ]
  },
  {
   "cell_type": "code",
   "execution_count": 52,
   "id": "857dea78",
   "metadata": {},
   "outputs": [],
   "source": [
    "def test_calc(r1, r2, alpha=.05):\n",
    "    \n",
    "    s, p = ttest_ind(r1, r2)\n",
    "    \n",
    "    if p<alpha:\n",
    "        print('Гипотеза H0 не подтверждается: средние не равны')\n",
    "        print('Разница средних = ', r1.mean(), r2.mean())\n",
    "    else:\n",
    "        print('Гипотеза H0  подтверждается: средние равны')\n",
    "        print('Разница средних = 0')\n",
    "    return s, p"
   ]
  },
  {
   "cell_type": "code",
   "execution_count": 53,
   "id": "f8350331",
   "metadata": {
    "scrolled": true
   },
   "outputs": [
    {
     "name": "stdout",
     "output_type": "stream",
     "text": [
      "Гипотеза H0 не подтверждается: средние не равны\n",
      "Разница средних =  0.6757851165301899 0.6150932939220395\n"
     ]
    },
    {
     "data": {
      "text/plain": [
       "(9.41595134321716, 5.1365957325220535e-21)"
      ]
     },
     "execution_count": 53,
     "metadata": {},
     "output_type": "execute_result"
    }
   ],
   "source": [
    "test_calc(df[df['id_group']==1]['nflag_order'], df[df['id_group']==0]['nflag_order'])"
   ]
  },
  {
   "cell_type": "markdown",
   "id": "8e5ae2e2",
   "metadata": {},
   "source": [
    "**Вывод:**\n",
    "Коверсия из просмотра в заказ у группы 1 выше чем у группы ноль на статистически значемую величину. Если принять что группа один является группой с введной фичей для улчшения конверсии, то можно сделать вывод что фича является рабочей - конверсия растет в общем по всеё группе данных! Далее проведем сегментацию для опредления для каких групп введения данной фичи является актуальной а для каких нет!\n"
   ]
  },
  {
   "cell_type": "markdown",
   "id": "f1e37a60",
   "metadata": {},
   "source": [
    "# Задание 3.3\n",
    "\n",
    "Запустите цикл, который пробежится по всем городам в датасете. Выявите те города, в которых есть статистически значимая разница между группами А и В. Создайте переменную типа \"список\", которая будет хранить эти города.\n",
    "\n",
    "**Описание логики действий:**\n",
    "Создаем лист уникальных городов all_сities. Цикл идет по созданному листу уникальных городов. Создается датафрейм df_city с фильтром по i-му уникальному городу в датафрейме df. Проводится статистичекйи тест по группам 1 и 0 'id_group' пол конверсии в заказ 'nflag_order' в датафреме df_city в каждом цикле пробежки по данным это будет разный город. "
   ]
  },
  {
   "cell_type": "code",
   "execution_count": 54,
   "id": "e511688d",
   "metadata": {
    "scrolled": true
   },
   "outputs": [
    {
     "name": "stdout",
     "output_type": "stream",
     "text": [
      "Новосибирск\n",
      "Гипотеза H0  подтверждается: средние равны\n",
      "Разница средних = 0\n",
      "\n",
      "Москва\n",
      "Гипотеза H0 не подтверждается: средние не равны\n",
      "Разница средних =  0.691944194419442 0.6172531214528945\n",
      "\n",
      "Санкт-Петербург\n",
      "Гипотеза H0 не подтверждается: средние не равны\n",
      "Разница средних =  0.6791930379746836 0.6083916083916084\n",
      "\n",
      "Казань\n",
      "Гипотеза H0 не подтверждается: средние не равны\n",
      "Разница средних =  0.6784565916398714 0.596244131455399\n",
      "\n",
      "Архангельск\n",
      "Гипотеза H0  подтверждается: средние равны\n",
      "Разница средних = 0\n",
      "\n",
      "Челябинск\n",
      "Гипотеза H0  подтверждается: средние равны\n",
      "Разница средних = 0\n",
      "\n",
      "Сочи\n",
      "Гипотеза H0  подтверждается: средние равны\n",
      "Разница средних = 0\n",
      "\n",
      "Хабаровск\n",
      "Гипотеза H0  подтверждается: средние равны\n",
      "Разница средних = 0\n",
      "\n",
      "Нижний Новгород\n",
      "Гипотеза H0  подтверждается: средние равны\n",
      "Разница средних = 0\n",
      "\n",
      "Краснодар\n",
      "Гипотеза H0  подтверждается: средние равны\n",
      "Разница средних = 0\n",
      "\n",
      "Воронеж\n",
      "Гипотеза H0  подтверждается: средние равны\n",
      "Разница средних = 0\n",
      "\n"
     ]
    }
   ],
   "source": [
    "all_cities = list(df['name_city'].unique())\n",
    "for i in all_cities:\n",
    "    print(i)\n",
    "\n",
    "    df_city = df[df['name_city']==i] \n",
    "    test_calc(df_city[df_city['id_group']==1]['nflag_order'], df_city[df_city['id_group']==0]['nflag_order'])\n",
    "    print()"
   ]
  },
  {
   "cell_type": "markdown",
   "id": "fbd04d0a",
   "metadata": {},
   "source": [
    "**Вывод:**\n",
    "Статистически значимая разница конверсии из просмотра в заказ по тестовым группам есть только в трех городах: Москва, Санкт-Петербург и Казань. В остальных городах  введение фичи статистическуи значимую разницу не дает!"
   ]
  },
  {
   "cell_type": "markdown",
   "id": "98b17a84",
   "metadata": {},
   "source": [
    "# Задание 3.4\n",
    "\n",
    "Создайте дополнительную колонку со значением 0 или 1 в зависимости от часа заказа.\n",
    "1 - если час пик (возьмите, например, 7,8,9,10,17,18,19,20), а 0 - все остальные часы.\n",
    "Проверьте результат АВ-теста по отдельности на пиковых и не-пиковых заказах и сделайте выводы.\n",
    "\n",
    "***Описание логики действий***\n",
    "Создадим дополнительную колонку с определением часа просмотра. Далее создаем колонку для определения явлется ли это время пиковым если 7,8,9,10,17,18,19,20 часов то 1, остальные 0. Создаем цикл пробегаем по значения nflag_pick 0 и 1 для определения статисичеки значимой разницы конверсии для этих двух групп.\n",
    "Также провели тесты отдельно без циклом проверили верность псотренного цикла!\n",
    "\n",
    "\n"
   ]
  },
  {
   "cell_type": "code",
   "execution_count": 55,
   "id": "749edb41",
   "metadata": {
    "scrolled": true
   },
   "outputs": [
    {
     "data": {
      "text/html": [
       "<div>\n",
       "<style scoped>\n",
       "    .dataframe tbody tr th:only-of-type {\n",
       "        vertical-align: middle;\n",
       "    }\n",
       "\n",
       "    .dataframe tbody tr th {\n",
       "        vertical-align: top;\n",
       "    }\n",
       "\n",
       "    .dataframe thead th {\n",
       "        text-align: right;\n",
       "    }\n",
       "</style>\n",
       "<table border=\"1\" class=\"dataframe\">\n",
       "  <thead>\n",
       "    <tr style=\"text-align: right;\">\n",
       "      <th></th>\n",
       "      <th>id_view</th>\n",
       "      <th>time_view</th>\n",
       "      <th>id_group</th>\n",
       "      <th>id_city</th>\n",
       "      <th>nflag_order</th>\n",
       "      <th>name_city</th>\n",
       "      <th>hour</th>\n",
       "      <th>nflag_pick</th>\n",
       "    </tr>\n",
       "  </thead>\n",
       "  <tbody>\n",
       "    <tr>\n",
       "      <th>0</th>\n",
       "      <td>10457162393</td>\n",
       "      <td>2023-01-17 13:56:06.118</td>\n",
       "      <td>0</td>\n",
       "      <td>3</td>\n",
       "      <td>1</td>\n",
       "      <td>Новосибирск</td>\n",
       "      <td>13</td>\n",
       "      <td>0</td>\n",
       "    </tr>\n",
       "    <tr>\n",
       "      <th>1</th>\n",
       "      <td>10457197478</td>\n",
       "      <td>2023-01-02 11:02:58.189</td>\n",
       "      <td>0</td>\n",
       "      <td>3</td>\n",
       "      <td>0</td>\n",
       "      <td>Новосибирск</td>\n",
       "      <td>11</td>\n",
       "      <td>0</td>\n",
       "    </tr>\n",
       "    <tr>\n",
       "      <th>2</th>\n",
       "      <td>10457135372</td>\n",
       "      <td>2023-01-15 10:03:58.011</td>\n",
       "      <td>0</td>\n",
       "      <td>3</td>\n",
       "      <td>0</td>\n",
       "      <td>Новосибирск</td>\n",
       "      <td>10</td>\n",
       "      <td>1</td>\n",
       "    </tr>\n",
       "    <tr>\n",
       "      <th>3</th>\n",
       "      <td>10457162971</td>\n",
       "      <td>2023-01-02 09:39:31.283</td>\n",
       "      <td>0</td>\n",
       "      <td>3</td>\n",
       "      <td>1</td>\n",
       "      <td>Новосибирск</td>\n",
       "      <td>9</td>\n",
       "      <td>1</td>\n",
       "    </tr>\n",
       "    <tr>\n",
       "      <th>4</th>\n",
       "      <td>10457132942</td>\n",
       "      <td>2023-01-23 19:18:03.516</td>\n",
       "      <td>0</td>\n",
       "      <td>3</td>\n",
       "      <td>0</td>\n",
       "      <td>Новосибирск</td>\n",
       "      <td>19</td>\n",
       "      <td>1</td>\n",
       "    </tr>\n",
       "  </tbody>\n",
       "</table>\n",
       "</div>"
      ],
      "text/plain": [
       "       id_view               time_view  id_group  id_city  nflag_order  \\\n",
       "0  10457162393 2023-01-17 13:56:06.118         0        3            1   \n",
       "1  10457197478 2023-01-02 11:02:58.189         0        3            0   \n",
       "2  10457135372 2023-01-15 10:03:58.011         0        3            0   \n",
       "3  10457162971 2023-01-02 09:39:31.283         0        3            1   \n",
       "4  10457132942 2023-01-23 19:18:03.516         0        3            0   \n",
       "\n",
       "     name_city  hour  nflag_pick  \n",
       "0  Новосибирск    13           0  \n",
       "1  Новосибирск    11           0  \n",
       "2  Новосибирск    10           1  \n",
       "3  Новосибирск     9           1  \n",
       "4  Новосибирск    19           1  "
      ]
     },
     "execution_count": 55,
     "metadata": {},
     "output_type": "execute_result"
    }
   ],
   "source": [
    "df['hour']=df['time_view'].dt.hour\n",
    "df['nflag_pick'] = np.where((df['hour'].isin([7,8,9,10,17,18,19,20])), 1,0)\n",
    "df.head(5)"
   ]
  },
  {
   "cell_type": "code",
   "execution_count": 56,
   "id": "ca2a88f3",
   "metadata": {},
   "outputs": [
    {
     "name": "stdout",
     "output_type": "stream",
     "text": [
      "0\n",
      "Гипотеза H0 не подтверждается: средние не равны\n",
      "Разница средних =  0.6751420070327292 0.6200055111600992\n",
      "\n",
      "1\n",
      "Гипотеза H0 не подтверждается: средние не равны\n",
      "Разница средних =  0.6770637268082818 0.6051008968609866\n",
      "\n"
     ]
    }
   ],
   "source": [
    "for i in range(0,2):\n",
    "    print(i)\n",
    "\n",
    "    df_pick = df[df['nflag_pick']==i] \n",
    "    test_calc(df_pick[df_pick['id_group']==1]['nflag_order'], df_pick[df_pick['id_group']==0]['nflag_order'])\n",
    "    print()"
   ]
  },
  {
   "cell_type": "code",
   "execution_count": 57,
   "id": "6a6d1997",
   "metadata": {},
   "outputs": [
    {
     "name": "stdout",
     "output_type": "stream",
     "text": [
      "Гипотеза H0 не подтверждается: средние не равны\n",
      "Разница средних =  0.6770637268082818 0.6051008968609866\n"
     ]
    },
    {
     "data": {
      "text/plain": [
       "(6.422002058720224, 1.429452278435098e-10)"
      ]
     },
     "execution_count": 57,
     "metadata": {},
     "output_type": "execute_result"
    }
   ],
   "source": [
    "test_calc(df[(df['id_group']==1) & (df['nflag_pick']==1)]['nflag_order'], df[(df['id_group']==0) & (df['nflag_pick']==1)]['nflag_order'])"
   ]
  },
  {
   "cell_type": "code",
   "execution_count": 58,
   "id": "480ede8a",
   "metadata": {
    "scrolled": true
   },
   "outputs": [
    {
     "name": "stdout",
     "output_type": "stream",
     "text": [
      "Гипотеза H0 не подтверждается: средние не равны\n",
      "Разница средних =  0.6751420070327292 0.6200055111600992\n"
     ]
    },
    {
     "data": {
      "text/plain": [
       "(6.99724331712408, 2.723734415858154e-12)"
      ]
     },
     "execution_count": 58,
     "metadata": {},
     "output_type": "execute_result"
    }
   ],
   "source": [
    "test_calc(df[(df['id_group']==1) & (df['nflag_pick']==0)]['nflag_order'], df[(df['id_group']==0) & (df['nflag_pick']==0)]['nflag_order'])"
   ]
  },
  {
   "cell_type": "markdown",
   "id": "2a128ffc",
   "metadata": {},
   "source": [
    "**Вывод:**\n",
    "Для обеих групп имеетсмя статистичеки значимая разница конверсии из просмотра в заказ. Что говорит что для введение данной фичи  положительно влияет для обеих групп!  "
   ]
  }
 ],
 "metadata": {
  "kernelspec": {
   "display_name": "Python 3 (ipykernel)",
   "language": "python",
   "name": "python3"
  },
  "language_info": {
   "codemirror_mode": {
    "name": "ipython",
    "version": 3
   },
   "file_extension": ".py",
   "mimetype": "text/x-python",
   "name": "python",
   "nbconvert_exporter": "python",
   "pygments_lexer": "ipython3",
   "version": "3.10.9"
  }
 },
 "nbformat": 4,
 "nbformat_minor": 5
}
